{
 "cells": [
  {
   "cell_type": "code",
   "execution_count": 2,
   "id": "37d6cf5c",
   "metadata": {},
   "outputs": [],
   "source": [
    "# IMPORTS\n",
    "\n",
    "# The vision module of the fastai library contains all the necessary functions to define a Dataset and train a model for computer vision tasks.\n",
    "from fastai.vision.all import *\n",
    "\n",
    "# Converts anything that can be displayed by IPython into a widget\n",
    "from fastai.vision.widgets import *"
   ]
  },
  {
   "cell_type": "code",
   "execution_count": 3,
   "id": "9a65c02a",
   "metadata": {},
   "outputs": [],
   "source": [
    "# LOAD MODEL\n",
    "\n",
    "# Loading a 'Learner' object (export.pkl) in 'path', by default putting it on the cpu\n",
    "path = Path()\n",
    "learn_inf = load_learner(path/'export.pkl', cpu=True)\n",
    "\n",
    "# Uploading widget to get file\n",
    "btn_upload = widgets.FileUpload()\n",
    "# To capture and display the output\n",
    "out_pl = widgets.Output()\n",
    "# To display predictions\n",
    "lbl_pred = widgets.Label()\n",
    "# Button to run\n",
    "btn_run = widgets.Button(description='Classify')"
   ]
  },
  {
   "cell_type": "code",
   "execution_count": 4,
   "id": "80123a81",
   "metadata": {},
   "outputs": [],
   "source": [
    "# CREATE INTERFACE\n",
    "\n",
    "def on_data_change(change):\n",
    "    # Loading image\n",
    "    \n",
    "    # Creating the image object\n",
    "    img = PILImage.create(btn_upload.data[-1])\n",
    "    # Cleaning all text from the model's output area\n",
    "    out_pl.clear_output()\n",
    "    # Displaying the image with determinated dimensions\n",
    "    with out_pl: display(img.to_thumb(128,128))\n",
    "        \n",
    "    # Taking the predictions of the image made by the learner\n",
    "    pred, pred_idx, probs = learn_inf.predict(img)\n",
    "    \n",
    "    # Printing it    \n",
    "    lbl_pred.value = f'Predictions: {pred}; Probability: {probs[pred_idx]:.04f}'\n",
    "\n",
    "# Calling function\n",
    "btn_run.on_click(on_data_change)"
   ]
  },
  {
   "cell_type": "code",
   "execution_count": 5,
   "id": "a6081c73",
   "metadata": {},
   "outputs": [
    {
     "data": {
      "application/vnd.jupyter.widget-view+json": {
       "model_id": "7a9c0df9f50c45cabbd211acf57e5034",
       "version_major": 2,
       "version_minor": 0
      },
      "text/plain": [
       "VBox(children=(Label(value='Select your eye!'), FileUpload(value={}, description='Upload'), Output(), Label(va…"
      ]
     },
     "metadata": {},
     "output_type": "display_data"
    }
   ],
   "source": [
    "# Display Predictions\n",
    "VBox([widgets.Label('Select your eye!'), \n",
    "      btn_upload, btn_run, out_pl, lbl_pred])"
   ]
  }
 ],
 "metadata": {
  "kernelspec": {
   "display_name": "fastai",
   "language": "python",
   "name": "fastai"
  },
  "language_info": {
   "codemirror_mode": {
    "name": "ipython",
    "version": 3
   },
   "file_extension": ".py",
   "mimetype": "text/x-python",
   "name": "python",
   "nbconvert_exporter": "python",
   "pygments_lexer": "ipython3",
   "version": "3.7.13"
  }
 },
 "nbformat": 4,
 "nbformat_minor": 5
}
